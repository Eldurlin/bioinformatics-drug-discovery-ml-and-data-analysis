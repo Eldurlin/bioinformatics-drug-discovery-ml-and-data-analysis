{
 "cells": [
  {
   "cell_type": "markdown",
   "id": "da8d465d",
   "metadata": {},
   "source": [
    "Coded with: https://www.youtube.com/watch?v=jBlTQjcKuaY"
   ]
  },
  {
   "cell_type": "code",
   "execution_count": null,
   "id": "6679d703",
   "metadata": {},
   "outputs": [],
   "source": [
    "# Import necessary libraries\n",
    "import pandas as pd\n",
    "from chembl_webresource_client.new_client import new_client"
   ]
  },
  {
   "cell_type": "markdown",
   "id": "f68ac6cc",
   "metadata": {},
   "source": [
    "# Search for the target protein"
   ]
  },
  {
   "cell_type": "markdown",
   "id": "b1492e90",
   "metadata": {},
   "source": [
    "## Target search for coronavirus"
   ]
  },
  {
   "cell_type": "code",
   "execution_count": null,
   "id": "36746bd9",
   "metadata": {},
   "outputs": [],
   "source": [
    "target = new_client.target\n",
    "target_query = target.search(\"coronavirus\")\n",
    "targets = pd.DataFrame.from_dict(target_query)\n",
    "targets"
   ]
  },
  {
   "cell_type": "markdown",
   "id": "16ab2aca",
   "metadata": {},
   "source": [
    "## Select and retrieve bioactivity data SARS coronavirus 3C-like proteinase"
   ]
  },
  {
   "cell_type": "markdown",
   "id": "053a576c",
   "metadata": {},
   "source": [
    "### We will assign the fifth entry to the selected_target."
   ]
  },
  {
   "cell_type": "code",
   "execution_count": null,
   "id": "74361d17",
   "metadata": {},
   "outputs": [],
   "source": [
    "selected_target = targets.target_chembl_id[4]\n",
    "selected_target"
   ]
  },
  {
   "cell_type": "markdown",
   "id": "fa7eebc6",
   "metadata": {},
   "source": [
    "### Here, we will retrieve only bioactivity data for coronavirus 3C-like proteinase (CHEMBL3927) that are reported as IC50 values in nM (nanomolar) unit."
   ]
  },
  {
   "cell_type": "code",
   "execution_count": null,
   "id": "55092865",
   "metadata": {},
   "outputs": [],
   "source": [
    "activity = new_client.activity\n",
    "res = activity.filter(target_chembl_id=selected_target).filter(standard_type=\"IC50\")"
   ]
  },
  {
   "cell_type": "code",
   "execution_count": null,
   "id": "5ec232b5",
   "metadata": {},
   "outputs": [],
   "source": [
    "df = pd.DataFrame.from_dict(res)"
   ]
  },
  {
   "cell_type": "code",
   "execution_count": null,
   "id": "b3f745c5",
   "metadata": {},
   "outputs": [],
   "source": [
    "df"
   ]
  },
  {
   "cell_type": "code",
   "execution_count": null,
   "id": "aef94ad8",
   "metadata": {},
   "outputs": [],
   "source": [
    "df.standard_type.unique()"
   ]
  },
  {
   "cell_type": "markdown",
   "id": "7a77d818",
   "metadata": {},
   "source": [
    "### Finally, we will save the resulting bioactivity to a CSV file \"bioactivity_data.csv\"."
   ]
  },
  {
   "cell_type": "code",
   "execution_count": null,
   "id": "a02d7719",
   "metadata": {},
   "outputs": [],
   "source": [
    "df.to_csv(\"bioactivity_data.csv\", index=False)"
   ]
  },
  {
   "cell_type": "markdown",
   "id": "a8af7db6",
   "metadata": {},
   "source": [
    "# Handling missing data"
   ]
  },
  {
   "cell_type": "markdown",
   "id": "8e7ddadf",
   "metadata": {},
   "source": [
    "### If any compounds has missing value for the standard_value column then drop it."
   ]
  },
  {
   "cell_type": "code",
   "execution_count": null,
   "id": "baad1806",
   "metadata": {},
   "outputs": [],
   "source": [
    "df2 = df[df.standard_value.notna()]\n",
    "df2"
   ]
  },
  {
   "cell_type": "markdown",
   "id": "38d3c26b",
   "metadata": {},
   "source": [
    "### Apparently, for this dataset there is no missing data. But we can use the above code cell for bioactivity data of other target protein."
   ]
  },
  {
   "cell_type": "markdown",
   "id": "0efc5e9e",
   "metadata": {},
   "source": [
    "# Data pre-processing of the bioactivity data"
   ]
  },
  {
   "cell_type": "markdown",
   "id": "4f96d71c",
   "metadata": {},
   "source": [
    "## Labeling compounds as either being active, inactive or intermediate"
   ]
  },
  {
   "cell_type": "markdown",
   "id": "efe53758",
   "metadata": {},
   "source": [
    "The bioactivity data is in the IC50 unit. Compounds having values of less than 1k nM will be considered to be active while those greater than 10k nM will be considered to be inactive. As for those values in between 1k and 10k nM will be referred to as intermediate."
   ]
  },
  {
   "cell_type": "code",
   "execution_count": null,
   "id": "77e86ad0",
   "metadata": {},
   "outputs": [],
   "source": [
    "bioactivity_class = []\n",
    "\n",
    "for i in df2.standard_value:\n",
    "    if float(i) >= 10000:\n",
    "        bioactivity_class.append(\"inactive\")\n",
    "    elif float(i) <= 1000:\n",
    "        bioactivity_class.append(\"active\")\n",
    "    else:\n",
    "        bioactivity_class.append(\"intermediate\")"
   ]
  },
  {
   "cell_type": "markdown",
   "id": "55f1801e",
   "metadata": {},
   "source": [
    "## Iterate the molecule_chembl_id to a list"
   ]
  },
  {
   "cell_type": "code",
   "execution_count": null,
   "id": "431a14be",
   "metadata": {},
   "outputs": [],
   "source": [
    "mol_cid = []\n",
    "\n",
    "for i in df2.molecule_chembl_id:\n",
    "    mol_cid.append(i)"
   ]
  },
  {
   "cell_type": "markdown",
   "id": "b738dbf0",
   "metadata": {},
   "source": [
    "## Iterate canonical_smiles to a list"
   ]
  },
  {
   "cell_type": "code",
   "execution_count": null,
   "id": "29fb5ec2",
   "metadata": {},
   "outputs": [],
   "source": [
    "canonical_smiles = []\n",
    "\n",
    "for i in df2.canonical_smiles:\n",
    "    canonical_smiles.append(i)"
   ]
  },
  {
   "cell_type": "markdown",
   "id": "0046c6b7",
   "metadata": {},
   "source": [
    "## Iterate standard_value to a list"
   ]
  },
  {
   "cell_type": "code",
   "execution_count": null,
   "id": "fd5c9bf6",
   "metadata": {},
   "outputs": [],
   "source": [
    "standard_value = []\n",
    "\n",
    "for i in df2.standard_value:\n",
    "    standard_value.append(i)"
   ]
  },
  {
   "cell_type": "markdown",
   "id": "13cc914c",
   "metadata": {},
   "source": [
    "## Combine the 4 lists into a dataframe"
   ]
  },
  {
   "cell_type": "code",
   "execution_count": null,
   "id": "22890e5b",
   "metadata": {},
   "outputs": [],
   "source": [
    "data_tuples = list(zip(mol_cid, canonical_smiles, bioactivity_class, standard_value))\n",
    "df3 = pd.DataFrame(data_tuples, columns=[\"molecule_chembl_id\", \"canonical_smiles\", \"bioactivity_class\", \"standard_value\"])"
   ]
  },
  {
   "cell_type": "code",
   "execution_count": null,
   "id": "f83a617d",
   "metadata": {},
   "outputs": [],
   "source": [
    "df3"
   ]
  },
  {
   "cell_type": "markdown",
   "id": "2a8b96af",
   "metadata": {},
   "source": [
    "### Saves dataframe to CSV file"
   ]
  },
  {
   "cell_type": "code",
   "execution_count": null,
   "id": "ec99c200",
   "metadata": {},
   "outputs": [],
   "source": [
    "df3.to_csv(\"bioactivity_preprocessed_data.csv\", index=False)"
   ]
  }
 ],
 "metadata": {
  "kernelspec": {
   "display_name": "Python 3 (ipykernel)",
   "language": "python",
   "name": "python3"
  },
  "language_info": {
   "codemirror_mode": {
    "name": "ipython",
    "version": 3
   },
   "file_extension": ".py",
   "mimetype": "text/x-python",
   "name": "python",
   "nbconvert_exporter": "python",
   "pygments_lexer": "ipython3",
   "version": "3.10.0"
  }
 },
 "nbformat": 4,
 "nbformat_minor": 5
}
