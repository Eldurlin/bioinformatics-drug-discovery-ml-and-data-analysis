{
 "cells": [
  {
   "cell_type": "markdown",
   "id": "32049f37",
   "metadata": {},
   "source": [
    "We will be building a regression model of acetylocholinesterase inhibtors using the random forest algorithm."
   ]
  },
  {
   "cell_type": "markdown",
   "id": "9632ff7f",
   "metadata": {},
   "source": [
    "### Import libraries"
   ]
  },
  {
   "cell_type": "code",
   "execution_count": null,
   "id": "26029694",
   "metadata": {},
   "outputs": [],
   "source": [
    "import pandas as pd\n",
    "import seaborn as sns\n",
    "from sklearn.model_selection import train_test_split\n",
    "from sklearn.ensemble import RandomForestRegressor"
   ]
  },
  {
   "cell_type": "markdown",
   "id": "b5129ca9",
   "metadata": {},
   "source": [
    "### Load the dataset"
   ]
  },
  {
   "cell_type": "code",
   "execution_count": null,
   "id": "9ba1d847",
   "metadata": {},
   "outputs": [],
   "source": [
    "df = pd.read_csv(\"acetylcholinesterase_06_bioactivity_data_3class_pIC50_pubchem_fp.csv\")"
   ]
  },
  {
   "cell_type": "code",
   "execution_count": null,
   "id": "0df604d4",
   "metadata": {},
   "outputs": [],
   "source": [
    "df"
   ]
  },
  {
   "cell_type": "markdown",
   "id": "43bdefca",
   "metadata": {},
   "source": [
    "### Input features"
   ]
  },
  {
   "cell_type": "markdown",
   "id": "8e83aa28",
   "metadata": {},
   "source": [
    "The Acetyloholinesterase dataset contains 881 input features and 1 output variable (pIC50 values)."
   ]
  },
  {
   "cell_type": "code",
   "execution_count": null,
   "id": "66b1c85b",
   "metadata": {},
   "outputs": [],
   "source": [
    "x = df.drop(\"pIC50\", axis=1)"
   ]
  },
  {
   "cell_type": "code",
   "execution_count": null,
   "id": "2db79cb6",
   "metadata": {},
   "outputs": [],
   "source": [
    "x"
   ]
  },
  {
   "cell_type": "markdown",
   "id": "d0d3889e",
   "metadata": {},
   "source": [
    "### Output features"
   ]
  },
  {
   "cell_type": "code",
   "execution_count": null,
   "id": "7e6b07c8",
   "metadata": {},
   "outputs": [],
   "source": [
    "y = df.pIC50"
   ]
  },
  {
   "cell_type": "code",
   "execution_count": null,
   "id": "36993a85",
   "metadata": {},
   "outputs": [],
   "source": [
    "y"
   ]
  },
  {
   "cell_type": "markdown",
   "id": "2333d149",
   "metadata": {},
   "source": [
    "### Examine the data dimension"
   ]
  },
  {
   "cell_type": "code",
   "execution_count": null,
   "id": "327f3f8b",
   "metadata": {},
   "outputs": [],
   "source": [
    "x.shape"
   ]
  },
  {
   "cell_type": "code",
   "execution_count": null,
   "id": "48b3afd9",
   "metadata": {},
   "outputs": [],
   "source": [
    "y.shape"
   ]
  },
  {
   "cell_type": "markdown",
   "id": "fb9879a9",
   "metadata": {},
   "source": [
    "### Remove low variance features"
   ]
  },
  {
   "cell_type": "code",
   "execution_count": null,
   "id": "1611329d",
   "metadata": {},
   "outputs": [],
   "source": [
    "from sklearn.feature_selection import VarianceThreshold"
   ]
  },
  {
   "cell_type": "code",
   "execution_count": null,
   "id": "a569f927",
   "metadata": {},
   "outputs": [],
   "source": [
    "selection = VarianceThreshold(threshold=(.8 * (1 - .8)))\n",
    "x = selection.fit_transform(x)"
   ]
  },
  {
   "cell_type": "code",
   "execution_count": null,
   "id": "98d08a65",
   "metadata": {},
   "outputs": [],
   "source": [
    "x.shape"
   ]
  },
  {
   "cell_type": "markdown",
   "id": "c247b4a9",
   "metadata": {},
   "source": [
    "### Data split (80/20 ratio)"
   ]
  },
  {
   "cell_type": "code",
   "execution_count": null,
   "id": "c5233ffa",
   "metadata": {},
   "outputs": [],
   "source": [
    "x_train, x_test, y_train, y_test = train_test_split(x, y, test_size=0.2)"
   ]
  },
  {
   "cell_type": "code",
   "execution_count": null,
   "id": "cca53f8d",
   "metadata": {},
   "outputs": [],
   "source": [
    "x_train.shape, y_train.shape"
   ]
  },
  {
   "cell_type": "code",
   "execution_count": null,
   "id": "d8a6c759",
   "metadata": {},
   "outputs": [],
   "source": [
    "x_test.shape, y_test.shape"
   ]
  },
  {
   "cell_type": "markdown",
   "id": "aaf24d31",
   "metadata": {},
   "source": [
    "### Building a regression model using random forest"
   ]
  },
  {
   "cell_type": "code",
   "execution_count": null,
   "id": "e3eb88c4",
   "metadata": {},
   "outputs": [],
   "source": [
    "import numpy as np\n",
    "np.random.seed(100)\n",
    "\n",
    "model = RandomForestRegressor(n_estimators=100)\n",
    "model.fit(x_train, y_train)\n",
    "r2 = model.score(x_test, y_test)\n",
    "\n",
    "r2"
   ]
  },
  {
   "cell_type": "code",
   "execution_count": null,
   "id": "e92d7a4d",
   "metadata": {},
   "outputs": [],
   "source": [
    "y_pred = model.predict(x_test)"
   ]
  },
  {
   "cell_type": "markdown",
   "id": "941ad3b0",
   "metadata": {},
   "source": [
    "### Scatter plot of experimental vs predicted pIC50 values"
   ]
  },
  {
   "cell_type": "code",
   "execution_count": null,
   "id": "59c49860",
   "metadata": {},
   "outputs": [],
   "source": [
    "import seaborn as sns\n",
    "import matplotlib.pyplot as plt\n",
    "\n",
    "sns.set(color_codes=True)\n",
    "sns.set_style(\"white\")\n",
    "\n",
    "ax = sns.regplot(y_test, y_pred, scatter_kws={\"alpha\": 0.4})\n",
    "ax.set_xlabel(\"Experimental pIC50\", fontsize=\"large\", fontweight=\"bold\")\n",
    "ax.set_ylabel(\"Predicted pIC50\", fontsize=\"large\", fontweight=\"bold\")\n",
    "ax.set_xlim(0, 12)\n",
    "ax.set_ylim(0, 12)\n",
    "ax.figure.set_size_inches(5, 5)\n",
    "\n",
    "plt.show"
   ]
  }
 ],
 "metadata": {
  "kernelspec": {
   "display_name": "Python 3 (ipykernel)",
   "language": "python",
   "name": "python3"
  },
  "language_info": {
   "codemirror_mode": {
    "name": "ipython",
    "version": 3
   },
   "file_extension": ".py",
   "mimetype": "text/x-python",
   "name": "python",
   "nbconvert_exporter": "python",
   "pygments_lexer": "ipython3",
   "version": "3.10.0"
  }
 },
 "nbformat": 4,
 "nbformat_minor": 5
}
