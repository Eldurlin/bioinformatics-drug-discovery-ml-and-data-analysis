{
 "cells": [
  {
   "cell_type": "markdown",
   "id": "e2f167ea",
   "metadata": {},
   "source": [
    "## Load bioactivity data"
   ]
  },
  {
   "cell_type": "code",
   "execution_count": null,
   "id": "df7600b5",
   "metadata": {},
   "outputs": [],
   "source": [
    "import pandas as pd"
   ]
  },
  {
   "cell_type": "code",
   "execution_count": null,
   "id": "f5e39513",
   "metadata": {},
   "outputs": [],
   "source": [
    "df = pd.read_csv(\"bioactivity_preprocessed_data.csv\")"
   ]
  },
  {
   "cell_type": "markdown",
   "id": "e63f76d1",
   "metadata": {},
   "source": [
    "## Calculate Lipinski descriptors"
   ]
  },
  {
   "cell_type": "markdown",
   "id": "63fd79c4",
   "metadata": {},
   "source": [
    "Christopher Lipinski, a scientist at Pfizer, came up with a set of rule-of-thumb for evaluating the druglikeness of compounds. Such druglikeness is based on the Absorption, Distribution, Metabolism and Excertion (ADME) that is also known as the pharmacokinteic profile. Lipinski analyzed all orally active FDA-approved drugs in the formulation of what is to be known as the Rule-of-Five or Lipinski's Rule."
   ]
  },
  {
   "cell_type": "markdown",
   "id": "f268f8bd",
   "metadata": {},
   "source": [
    "The Lipinski's Rule stated the following:\n",
    "- molecular weight < 500 Dalton,\n",
    "- octanol-water partition coefficent (LogP) < 5,\n",
    "- hydrogen bond donors < 5,\n",
    "- hydrogen bond acceptors < 10."
   ]
  },
  {
   "cell_type": "markdown",
   "id": "4ab56ea3",
   "metadata": {},
   "source": [
    "## Import libraries"
   ]
  },
  {
   "cell_type": "code",
   "execution_count": null,
   "id": "45ab08a1",
   "metadata": {},
   "outputs": [],
   "source": [
    "import numpy as np\n",
    "from rdkit import Chem\n",
    "from rdkit.Chem import Descriptors, Lipinski"
   ]
  },
  {
   "cell_type": "markdown",
   "id": "3ededd77",
   "metadata": {},
   "source": [
    "## Calculate descriptors"
   ]
  },
  {
   "cell_type": "code",
   "execution_count": null,
   "id": "d23608f0",
   "metadata": {},
   "outputs": [],
   "source": [
    "def lipinski(smiles, verbose=False):\n",
    "    moldata = []\n",
    "    \n",
    "    for element in smiles:\n",
    "        mol = Chem.MolFromSmiles(element)\n",
    "        moldata.append(mol)\n",
    "        \n",
    "    base_data = np.arange(1, 1)\n",
    "    i = 0\n",
    "    \n",
    "    for mol in moldata:\n",
    "        desc_MolWt = Descriptors.MolWt(mol)\n",
    "        desc_MolLogP = Descriptors.MolLogP(mol)\n",
    "        desc_NumHDonors = Lipinski.NumHDonors(mol)\n",
    "        desc_NumHAcceptors = Lipinski.NumHAcceptors(mol)\n",
    "        \n",
    "        row = np.array([desc_MolWt, desc_MolLogP, desc_NumHDonors, desc_NumHAcceptors])\n",
    "        \n",
    "        if(i == 0):\n",
    "            base_data = row\n",
    "        else:\n",
    "            base_data = np.vstack([base_data, row])\n",
    "        \n",
    "        i = i + 1\n",
    "        \n",
    "    column_names = [\"MW\", \"LogP\", \"NumHDonors\", \"NumHAcceptors\"]\n",
    "    descriptors = pd.DataFrame(data=base_data, columns=column_names)\n",
    "    \n",
    "    return descriptors"
   ]
  },
  {
   "cell_type": "code",
   "execution_count": null,
   "id": "02d9e7aa",
   "metadata": {},
   "outputs": [],
   "source": [
    "df_lipinski = lipinski(df.canonical_smiles)"
   ]
  },
  {
   "cell_type": "markdown",
   "id": "00cfc619",
   "metadata": {},
   "source": [
    "## Combine dataframes"
   ]
  },
  {
   "cell_type": "markdown",
   "id": "e4adb568",
   "metadata": {},
   "source": [
    "Let's take a look at the 2 dataframes that will be combined."
   ]
  },
  {
   "cell_type": "code",
   "execution_count": null,
   "id": "116793a4",
   "metadata": {},
   "outputs": [],
   "source": [
    "df_lipinski"
   ]
  },
  {
   "cell_type": "code",
   "execution_count": null,
   "id": "3a88968a",
   "metadata": {},
   "outputs": [],
   "source": [
    "df"
   ]
  },
  {
   "cell_type": "markdown",
   "id": "cb0ab7e2",
   "metadata": {},
   "source": [
    "Now, let's combine these 2 dataframes."
   ]
  },
  {
   "cell_type": "code",
   "execution_count": null,
   "id": "a06eb723",
   "metadata": {},
   "outputs": [],
   "source": [
    "df_combined = pd.concat([df, df_lipinski], axis=1)"
   ]
  },
  {
   "cell_type": "code",
   "execution_count": null,
   "id": "0fc65ef8",
   "metadata": {},
   "outputs": [],
   "source": [
    "df_combined"
   ]
  },
  {
   "cell_type": "markdown",
   "id": "93b94177",
   "metadata": {},
   "source": [
    "## Convert IC50 to pIC50"
   ]
  },
  {
   "cell_type": "markdown",
   "id": "d2ca2635",
   "metadata": {},
   "source": [
    "To allow IC50 data to be more uniformly distributed, we will convert IC50 to the negative logarithmic scale which is essentially -log10(IC50). This custom function pIC50() will accept a dataframe as input and will:\n",
    "- take the IC50 values from the standard_values column and converts it from nM to M by multiplying the value by 10**-9,\n",
    "- take the molar value and apply -log10,\n",
    "- delete the standard_value column and create a new pIC50 column."
   ]
  },
  {
   "cell_type": "code",
   "execution_count": null,
   "id": "2cc1e033",
   "metadata": {},
   "outputs": [],
   "source": [
    "import numpy as np\n",
    "\n",
    "def pIC50(input):\n",
    "    pIC50 = []\n",
    "    \n",
    "    for i in input[\"standard_value_norm\"]:\n",
    "        # Converts nM to M\n",
    "        molar = i * (10**-9)\n",
    "        pIC50.append(-np.log10(molar))\n",
    "        \n",
    "    input[\"pIC50\"] = pIC50\n",
    "    x = input.drop(\"standard_value_norm\", 1)\n",
    "    \n",
    "    return x"
   ]
  },
  {
   "cell_type": "markdown",
   "id": "be4428d4",
   "metadata": {},
   "source": [
    "Point to note: values greater than 100kk will be fixed at 100kk otherwise the nagative logarithmic value will become negative."
   ]
  },
  {
   "cell_type": "code",
   "execution_count": null,
   "id": "39c2a4f1",
   "metadata": {},
   "outputs": [],
   "source": [
    "df_combined.standard_value.describe()"
   ]
  },
  {
   "cell_type": "code",
   "execution_count": null,
   "id": "6054e2bc",
   "metadata": {},
   "outputs": [],
   "source": [
    "def norm_value(input):\n",
    "    norm = []\n",
    "    \n",
    "    for i in input[\"standard_value\"]:\n",
    "        if i > 100000000:\n",
    "            i = 100000000\n",
    "        norm.append(i)\n",
    "        \n",
    "    input[\"standard_value_norm\"] = norm\n",
    "    x = input.drop(\"standard_value\", 1)\n",
    "    \n",
    "    return x"
   ]
  },
  {
   "cell_type": "markdown",
   "id": "2172039a",
   "metadata": {},
   "source": [
    "We will first apply the norm_value() function so that the values in the standard_value column is normalized."
   ]
  },
  {
   "cell_type": "code",
   "execution_count": null,
   "id": "9b1be319",
   "metadata": {},
   "outputs": [],
   "source": [
    "df_norm = norm_value(df_combined)"
   ]
  },
  {
   "cell_type": "code",
   "execution_count": null,
   "id": "afe6d6c2",
   "metadata": {},
   "outputs": [],
   "source": [
    "df_norm"
   ]
  },
  {
   "cell_type": "code",
   "execution_count": null,
   "id": "7aa24d10",
   "metadata": {},
   "outputs": [],
   "source": [
    "df_norm.standard_value_norm.describe()"
   ]
  },
  {
   "cell_type": "code",
   "execution_count": null,
   "id": "b3facc77",
   "metadata": {},
   "outputs": [],
   "source": [
    "df_final = pIC50(df_norm)"
   ]
  },
  {
   "cell_type": "code",
   "execution_count": null,
   "id": "bf47cbfc",
   "metadata": {},
   "outputs": [],
   "source": [
    "df_final"
   ]
  },
  {
   "cell_type": "code",
   "execution_count": null,
   "id": "d49c082c",
   "metadata": {},
   "outputs": [],
   "source": [
    "df_final.pIC50.describe()"
   ]
  },
  {
   "cell_type": "markdown",
   "id": "db8ecdff",
   "metadata": {},
   "source": [
    "## Removing the intermediate bioactivity class"
   ]
  },
  {
   "cell_type": "markdown",
   "id": "95b7dda7",
   "metadata": {},
   "source": [
    "Here, we will be removing the intermediate class from our data set."
   ]
  },
  {
   "cell_type": "code",
   "execution_count": null,
   "id": "2c2dbd85",
   "metadata": {},
   "outputs": [],
   "source": [
    "df_2class = df_final[df_final.bioactivity_class != \"intermediate\"]"
   ]
  },
  {
   "cell_type": "code",
   "execution_count": null,
   "id": "5d390648",
   "metadata": {},
   "outputs": [],
   "source": [
    "df_2class"
   ]
  },
  {
   "cell_type": "markdown",
   "id": "5d4af0e8",
   "metadata": {},
   "source": [
    "## Exploratory data analysis (Chemical Space Analysis) via Lipinski descriptors"
   ]
  },
  {
   "cell_type": "code",
   "execution_count": null,
   "id": "aaf3cc0a",
   "metadata": {},
   "outputs": [],
   "source": [
    "# Import libraries\n",
    "import seaborn as sns\n",
    "sns.set(style=\"ticks\")\n",
    "import matplotlib.pyplot as plt"
   ]
  },
  {
   "cell_type": "markdown",
   "id": "65bb0dcc",
   "metadata": {},
   "source": [
    "### Frequency plot of the two bioactivity classes"
   ]
  },
  {
   "cell_type": "code",
   "execution_count": null,
   "id": "624ebeef",
   "metadata": {},
   "outputs": [],
   "source": [
    "plt.figure(figsize=(5.5, 5.5))\n",
    "\n",
    "sns.countplot(x=\"bioactivity_class\", data=df_2class, edgecolor=\"black\")\n",
    "\n",
    "plt.xlabel(\"Bioactivity class\", fontsize=14, fontweight=\"bold\")\n",
    "plt.ylabel(\"Frequency\", fontsize=14, fontweight=\"bold\")\n",
    "\n",
    "plt.savefig(\"plot_bioactivity_class.pdf\")"
   ]
  },
  {
   "cell_type": "markdown",
   "id": "01fbc78a",
   "metadata": {},
   "source": [
    "## Scatter plot of MW versus LogP"
   ]
  },
  {
   "cell_type": "markdown",
   "id": "e0a2cb82",
   "metadata": {},
   "source": [
    "It can be seen that the two bioactivity classes are spanning similar chemical spaces as evident by the scatter plot of MW vs LogP."
   ]
  },
  {
   "cell_type": "code",
   "execution_count": null,
   "id": "2c15bc9d",
   "metadata": {},
   "outputs": [],
   "source": [
    "plt.figure(figsize=(5.5, 5.5))\n",
    "\n",
    "sns.scatterplot(x=\"MW\", y=\"LogP\", data=df_2class, hue=\"bioactivity_class\", size=\"pIC50\", edgecolor=\"black\", alpha=0.7)\n",
    "\n",
    "plt.xlabel(\"MW\", fontsize=14, fontweight=\"bold\")\n",
    "plt.ylabel(\"LogP\", fontsize=14, fontweight=\"bold\")\n",
    "plt.legend(bbox_to_anchor=(1.05, 1), loc=2, borderaxespad=0)\n",
    "plt.savefig(\"plot_MW_vs_LogP.pdf\")"
   ]
  },
  {
   "cell_type": "markdown",
   "id": "25430d05",
   "metadata": {},
   "source": [
    "## Box plots"
   ]
  },
  {
   "cell_type": "markdown",
   "id": "d2a765a0",
   "metadata": {},
   "source": [
    "## pIC50 value"
   ]
  },
  {
   "cell_type": "code",
   "execution_count": null,
   "id": "ae14e2c7",
   "metadata": {},
   "outputs": [],
   "source": [
    "plt.figure(figsize=(5.5, 5.5))\n",
    "\n",
    "sns.boxplot(x=\"bioactivity_class\", y=\"pIC50\", data=df_2class)\n",
    "\n",
    "plt.xlabel(\"Bioactivity class\", fontsize=14, fontweight=\"bold\")\n",
    "plt.ylabel(\"pIC50 value\", fontsize=14, fontweight=\"bold\")\n",
    "\n",
    "plt.savefig(\"plot_ic50.pdf\")"
   ]
  },
  {
   "cell_type": "markdown",
   "id": "8422b7a7",
   "metadata": {},
   "source": [
    "## Statistical analysis | Mann-Whitney U Test"
   ]
  },
  {
   "cell_type": "code",
   "execution_count": null,
   "id": "1488b006",
   "metadata": {},
   "outputs": [],
   "source": [
    "def mann_whitney(descriptor, verbose=False):\n",
    "    from numpy.random import seed, randn\n",
    "    from scipy.stats import mannwhitneyu\n",
    "    \n",
    "    # Seed the random number generator\n",
    "    seed(1)\n",
    "    \n",
    "    # Actives and inactives\n",
    "    selection = [descriptor, \"bioactivity_class\"]\n",
    "    df = df_2class[selection]\n",
    "    active = df[df.bioactivity_class == \"active\"]\n",
    "    active = active[descriptor]\n",
    "    \n",
    "    selection = [descriptor, \"bioactivity_class\"]\n",
    "    df = df_2class[selection]\n",
    "    inactive = df[df.bioactivity_class == \"inactive\"]\n",
    "    inactive = inactive[descriptor]\n",
    "    \n",
    "    # Compare samples\n",
    "    stat, p = mannwhitneyu(active, inactive)\n",
    "    \n",
    "    # Interpret\n",
    "    alpha = 0.05\n",
    "    \n",
    "    if p > alpha:\n",
    "        interpretation = \"Same distribution (fail to reject H0)\"\n",
    "    else:\n",
    "        interpretation = \"Different distribution (reject H0)\"\n",
    "        \n",
    "    results = pd.DataFrame({\"Descriptor\": descriptor,\n",
    "                            \"Statistics\": stat,\n",
    "                            \"p\": p,\n",
    "                            \"alpha\": alpha,\n",
    "                            \"Interpretation\": interpretation}, index=[0])\n",
    "    filename = \"mann_whitney_u_\" + descriptor + \".csv\"\n",
    "    results.to_csv(filename)\n",
    "    \n",
    "    return results"
   ]
  },
  {
   "cell_type": "code",
   "execution_count": null,
   "id": "00471501",
   "metadata": {},
   "outputs": [],
   "source": [
    "mann_whitney(\"pIC50\")"
   ]
  },
  {
   "cell_type": "markdown",
   "id": "05b33b88",
   "metadata": {},
   "source": [
    "## MW"
   ]
  },
  {
   "cell_type": "code",
   "execution_count": null,
   "id": "e7d74062",
   "metadata": {},
   "outputs": [],
   "source": [
    "plt.figure(figsize=(5.5, 5.5))\n",
    "\n",
    "sns.boxplot(x=\"bioactivity_class\", y=\"MW\", data=df_2class)\n",
    "\n",
    "plt.xlabel(\"Bioactivity class\", fontsize=14, fontweight=\"bold\")\n",
    "plt.ylabel(\"MW\", fontsize=14, fontweight=\"bold\")\n",
    "\n",
    "plt.savefig(\"plot_MW.pdf\")"
   ]
  },
  {
   "cell_type": "code",
   "execution_count": null,
   "id": "c27ede44",
   "metadata": {},
   "outputs": [],
   "source": [
    "mann_whitney(\"MW\")"
   ]
  },
  {
   "cell_type": "markdown",
   "id": "2f1f13c3",
   "metadata": {},
   "source": [
    "## LogP"
   ]
  },
  {
   "cell_type": "code",
   "execution_count": null,
   "id": "95f595f8",
   "metadata": {},
   "outputs": [],
   "source": [
    "plt.figure(figsize=(5.5, 5.5))\n",
    "\n",
    "sns.boxplot(x=\"bioactivity_class\", y=\"LogP\", data=df_2class)\n",
    "\n",
    "plt.xlabel(\"Bioactivity class\", fontsize=14, fontweight=\"bold\")\n",
    "plt.ylabel(\"LogP\", fontsize=14, fontweight=\"bold\")\n",
    "\n",
    "plt.savefig(\"plot_LogP.pdf\")"
   ]
  },
  {
   "cell_type": "code",
   "execution_count": null,
   "id": "020ca965",
   "metadata": {},
   "outputs": [],
   "source": [
    "mann_whitney(\"LogP\")"
   ]
  },
  {
   "cell_type": "markdown",
   "id": "cf008691",
   "metadata": {},
   "source": [
    "## NumHDonors"
   ]
  },
  {
   "cell_type": "code",
   "execution_count": null,
   "id": "d127a1e8",
   "metadata": {},
   "outputs": [],
   "source": [
    "plt.figure(figsize=(5.5, 5.5))\n",
    "\n",
    "sns.boxplot(x=\"bioactivity_class\", y=\"NumHDonors\", data=df_2class)\n",
    "\n",
    "plt.xlabel(\"Bioactivity class\", fontsize=14, fontweight=\"bold\")\n",
    "plt.ylabel(\"NumHDonors\", fontsize=14, fontweight=\"bold\")\n",
    "\n",
    "plt.savefig(\"plot_NumHDonors.pdf\")"
   ]
  },
  {
   "cell_type": "code",
   "execution_count": null,
   "id": "0127d0bd",
   "metadata": {},
   "outputs": [],
   "source": [
    "mann_whitney(\"NumHDonors\")"
   ]
  },
  {
   "cell_type": "markdown",
   "id": "168eb275",
   "metadata": {},
   "source": [
    "## NumHAcceptors"
   ]
  },
  {
   "cell_type": "code",
   "execution_count": null,
   "id": "b7e8e2d3",
   "metadata": {},
   "outputs": [],
   "source": [
    "plt.figure(figsize=(5.5, 5.5))\n",
    "\n",
    "sns.boxplot(x=\"bioactivity_class\", y=\"NumHAcceptors\", data=df_2class)\n",
    "\n",
    "plt.xlabel(\"Bioactivity class\", fontsize=14, fontweight=\"bold\")\n",
    "plt.ylabel(\"NumHAcceptors\", fontsize=14, fontweight=\"bold\")\n",
    "\n",
    "plt.savefig(\"plot_NumHAcceptors.pdf\")"
   ]
  },
  {
   "cell_type": "code",
   "execution_count": null,
   "id": "41d81061",
   "metadata": {},
   "outputs": [],
   "source": [
    "mann_whitney(\"NumHAcceptors\")"
   ]
  },
  {
   "cell_type": "markdown",
   "id": "a35e6ce5",
   "metadata": {},
   "source": [
    "## Interpretation of Statistical Results"
   ]
  },
  {
   "cell_type": "markdown",
   "id": "2fcc3614",
   "metadata": {},
   "source": [
    "### Box Plots"
   ]
  },
  {
   "cell_type": "markdown",
   "id": "43d594d0",
   "metadata": {},
   "source": [
    "### pIC50 values\n",
    "Taking a look at pIC50 values, the actives and inactives displayed statistically significant difference, which is to be expected since threshold values (IC50 < 1k nM = Actives while IC50 > 10k nM = Inactives, corresponding to pIC50 > 6 = Acives and pIC50 <5 = Inactives) were used to define actives and inactives."
   ]
  },
  {
   "cell_type": "markdown",
   "id": "9670e41c",
   "metadata": {},
   "source": [
    "### Lipinski's descriptors\n",
    "Of the four Lipinski's descriptors (MW, LogP, NumHDonors, NumHAcceptors), only LogP exhibited no difference between the actives and inactives while the other 3 descriptors shows statistically significant difference between actives and inactives."
   ]
  },
  {
   "cell_type": "markdown",
   "id": "e6f1704d",
   "metadata": {},
   "source": [
    "## Zip result files"
   ]
  },
  {
   "cell_type": "code",
   "execution_count": null,
   "id": "18e227b8",
   "metadata": {},
   "outputs": [],
   "source": [
    "! zip -r results.zip . -i *.csv *.pdf"
   ]
  }
 ],
 "metadata": {
  "kernelspec": {
   "display_name": "Python 3 (ipykernel)",
   "language": "python",
   "name": "python3"
  },
  "language_info": {
   "codemirror_mode": {
    "name": "ipython",
    "version": 3
   },
   "file_extension": ".py",
   "mimetype": "text/x-python",
   "name": "python",
   "nbconvert_exporter": "python",
   "pygments_lexer": "ipython3",
   "version": "3.10.0"
  }
 },
 "nbformat": 4,
 "nbformat_minor": 5
}
