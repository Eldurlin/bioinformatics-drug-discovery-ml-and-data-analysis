{
 "cells": [
  {
   "cell_type": "markdown",
   "id": "358a514e",
   "metadata": {},
   "source": [
    "We will be building a machine learning model using the ChEMBL bioactivity data. We will be calculating molecular descriptors that are essentailly quantitative description of the compunds in the dataset. Finally, we will be preparing this into a dataset for subsequent model building."
   ]
  },
  {
   "cell_type": "markdown",
   "id": "77c2e2a1",
   "metadata": {},
   "source": [
    "## Download PaDEL-Descriptor"
   ]
  },
  {
   "cell_type": "code",
   "execution_count": null,
   "id": "830b31c0",
   "metadata": {},
   "outputs": [],
   "source": [
    "! wget https://github.com/dataprofessor/bioinformatics/raw/master/padel.zip\n",
    "! wget https://github.com/dataprofessor/bioinformatics/raw/master/padel.sh"
   ]
  },
  {
   "cell_type": "code",
   "execution_count": null,
   "id": "dff0381c",
   "metadata": {},
   "outputs": [],
   "source": [
    "! unzip padel.zip"
   ]
  },
  {
   "cell_type": "markdown",
   "id": "457f0a36",
   "metadata": {},
   "source": [
    "## Load bioactivity data"
   ]
  },
  {
   "cell_type": "markdown",
   "id": "b666da6b",
   "metadata": {},
   "source": [
    "Download the curated ChEMBL bioactivity data that has been pre-processed from earlier parts. Here we will be using the bioactivity_data_3class_pIC50.csv file that essentially contain the pIC50 values that we will be using for building a regression model."
   ]
  },
  {
   "cell_type": "code",
   "execution_count": null,
   "id": "72f5b9f3",
   "metadata": {},
   "outputs": [],
   "source": [
    "! wget https://raw.githubusercontent.com/dataprofessor/data/master/acetylcholinesterase_04_bioactivity_data_3class_pIC50.csv"
   ]
  },
  {
   "cell_type": "code",
   "execution_count": null,
   "id": "e8ac0d49",
   "metadata": {},
   "outputs": [],
   "source": [
    "import pandas as pd"
   ]
  },
  {
   "cell_type": "code",
   "execution_count": null,
   "id": "370304b5",
   "metadata": {},
   "outputs": [],
   "source": [
    "df3 = pd.read_csv(\"acetylcholinesterase_04_bioactivity_data_3class_pIC50.csv\")"
   ]
  },
  {
   "cell_type": "code",
   "execution_count": null,
   "id": "f7ea759a",
   "metadata": {},
   "outputs": [],
   "source": [
    "df3"
   ]
  },
  {
   "cell_type": "code",
   "execution_count": null,
   "id": "d1757e2a",
   "metadata": {},
   "outputs": [],
   "source": [
    "selection = [\"canonical_smiles\", \"molecule_chembl_id\"]\n",
    "df3_selection = df3[selection]\n",
    "df3_selection.to_csv(\"molecule.smi\", sep=\"\\t\", index=False, header=False)"
   ]
  },
  {
   "cell_type": "code",
   "execution_count": null,
   "id": "7ae27614",
   "metadata": {},
   "outputs": [],
   "source": [
    "! cat molecule.smi | head -5"
   ]
  },
  {
   "cell_type": "code",
   "execution_count": null,
   "id": "6a68d711",
   "metadata": {},
   "outputs": [],
   "source": [
    "# How many lines of molecules do we have\n",
    "! cat molecule.smi | wc -l"
   ]
  },
  {
   "cell_type": "markdown",
   "id": "5555ef04",
   "metadata": {},
   "source": [
    "## Calculate fingerprint descriptors"
   ]
  },
  {
   "cell_type": "markdown",
   "id": "82619ac2",
   "metadata": {},
   "source": [
    "### Calculate PaDEL descriptors"
   ]
  },
  {
   "cell_type": "code",
   "execution_count": null,
   "id": "bb922a9c",
   "metadata": {},
   "outputs": [],
   "source": [
    "! bash padel.sh"
   ]
  },
  {
   "cell_type": "markdown",
   "id": "ff8ff4dc",
   "metadata": {},
   "source": [
    "## Preparing the X and Y data matrices"
   ]
  },
  {
   "cell_type": "markdown",
   "id": "439c4dee",
   "metadata": {},
   "source": [
    "### X data matrix"
   ]
  },
  {
   "cell_type": "code",
   "execution_count": null,
   "id": "bff988cc",
   "metadata": {},
   "outputs": [],
   "source": [
    "df3_x = pd.read_csv(\"descriptors_output.csv\")"
   ]
  },
  {
   "cell_type": "code",
   "execution_count": null,
   "id": "b7dba096",
   "metadata": {},
   "outputs": [],
   "source": [
    "df3_x"
   ]
  },
  {
   "cell_type": "code",
   "execution_count": null,
   "id": "3f424db1",
   "metadata": {},
   "outputs": [],
   "source": [
    "df3_x = df3_x.drop(columns=[\"Name\"])\n",
    "df3_x"
   ]
  },
  {
   "cell_type": "markdown",
   "id": "4b0d154e",
   "metadata": {},
   "source": [
    "### Y data matrix"
   ]
  },
  {
   "cell_type": "markdown",
   "id": "53eefdda",
   "metadata": {},
   "source": [
    "### Convert IC50 to pIC50"
   ]
  },
  {
   "cell_type": "code",
   "execution_count": null,
   "id": "26af4ad3",
   "metadata": {},
   "outputs": [],
   "source": [
    "df3_y = df3[\"pIC50\"]\n",
    "df3_y"
   ]
  },
  {
   "cell_type": "markdown",
   "id": "f324439f",
   "metadata": {},
   "source": [
    "## Combining X and Y variable"
   ]
  },
  {
   "cell_type": "code",
   "execution_count": null,
   "id": "500ff80d",
   "metadata": {},
   "outputs": [],
   "source": [
    "dataset3 = pd.concat([df3_x, df3_y], axis=1)\n",
    "dataset3"
   ]
  },
  {
   "cell_type": "code",
   "execution_count": null,
   "id": "a3cc866e",
   "metadata": {},
   "outputs": [],
   "source": [
    "dataset3.to_csv(\"acetylcholinesterase_06_bioactivity_data_3class_pIC50_pubchem_fp.csv\", index=False)"
   ]
  }
 ],
 "metadata": {
  "kernelspec": {
   "display_name": "Python 3 (ipykernel)",
   "language": "python",
   "name": "python3"
  },
  "language_info": {
   "codemirror_mode": {
    "name": "ipython",
    "version": 3
   },
   "file_extension": ".py",
   "mimetype": "text/x-python",
   "name": "python",
   "nbconvert_exporter": "python",
   "pygments_lexer": "ipython3",
   "version": "3.10.0"
  }
 },
 "nbformat": 4,
 "nbformat_minor": 5
}
