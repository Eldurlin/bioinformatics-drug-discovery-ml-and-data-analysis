{
 "cells": [
  {
   "cell_type": "markdown",
   "id": "fdd816fe",
   "metadata": {},
   "source": [
    "We will be comparing several ML algorithms for build regression models of acetylcholinesterase inhibitors."
   ]
  },
  {
   "cell_type": "markdown",
   "id": "d7d243e0",
   "metadata": {},
   "source": [
    "## Import libraries"
   ]
  },
  {
   "cell_type": "code",
   "execution_count": null,
   "id": "c9ba16f0",
   "metadata": {},
   "outputs": [],
   "source": [
    "import pandas as pd\n",
    "import seaborn as sns\n",
    "from sklearn.model_selection import train_test_split\n",
    "import lazypredict\n",
    "from lazypredict.Supervised import LazyRegressor"
   ]
  },
  {
   "cell_type": "markdown",
   "id": "012283a6",
   "metadata": {},
   "source": [
    "## Load the dataset"
   ]
  },
  {
   "cell_type": "code",
   "execution_count": null,
   "id": "9f68dad9",
   "metadata": {},
   "outputs": [],
   "source": [
    "df = pd.read_csv(\"acetylcholinesterase_06_bioactivity_data_3class_pIC50_pubchem_fp.csv\")"
   ]
  },
  {
   "cell_type": "code",
   "execution_count": null,
   "id": "1074452b",
   "metadata": {},
   "outputs": [],
   "source": [
    "x = df.drop(\"pIC50\", axis=1)\n",
    "y = df.pIC50"
   ]
  },
  {
   "cell_type": "markdown",
   "id": "c98ed6e6",
   "metadata": {},
   "source": [
    "## Data pre-processing"
   ]
  },
  {
   "cell_type": "code",
   "execution_count": null,
   "id": "d6004f24",
   "metadata": {},
   "outputs": [],
   "source": [
    "# Examine x dimension\n",
    "x.shape"
   ]
  },
  {
   "cell_type": "code",
   "execution_count": null,
   "id": "de57b565",
   "metadata": {},
   "outputs": [],
   "source": [
    "# Remove low variance features\n",
    "from sklearn.feature_selection import VarianceThreshold\n",
    "\n",
    "selection = VarianceThreshold(threshold=(.8 * (1 - .8)))\n",
    "x = selection.fit_transform(x)\n",
    "x.shape"
   ]
  },
  {
   "cell_type": "code",
   "execution_count": null,
   "id": "c6e96f81",
   "metadata": {},
   "outputs": [],
   "source": [
    "# Perform data splitting using 80/20 ratio\n",
    "x_train, x_test, y_train, y_test = train_test_split(x, y, test_size=0.2)"
   ]
  },
  {
   "cell_type": "markdown",
   "id": "3020a396",
   "metadata": {},
   "source": [
    "## Compare ML algorithms"
   ]
  },
  {
   "cell_type": "code",
   "execution_count": null,
   "id": "59ec6e23",
   "metadata": {},
   "outputs": [],
   "source": [
    "# Define and builds the lazyclassifier\n",
    "clf = LazyRegressor(verbose=0, ignore_warnings=True, custom_metric=None)\n",
    "train, test = clf.fit(x_train, x_test, y_train, y_test)"
   ]
  },
  {
   "cell_type": "code",
   "execution_count": null,
   "id": "f59326a3",
   "metadata": {},
   "outputs": [],
   "source": [
    "# Performance table of the training set (80% subset)\n",
    "train"
   ]
  },
  {
   "cell_type": "code",
   "execution_count": null,
   "id": "996218d4",
   "metadata": {},
   "outputs": [],
   "source": [
    "# Performance table of the test set (20% subset)\n",
    "test"
   ]
  },
  {
   "cell_type": "markdown",
   "id": "6108d8ba",
   "metadata": {},
   "source": [
    "## Data visualization of model performance"
   ]
  },
  {
   "cell_type": "code",
   "execution_count": null,
   "id": "b09b2980",
   "metadata": {},
   "outputs": [],
   "source": [
    "# Barplot of R-squared values\n",
    "import matplotlib.pyplot as plt\n",
    "import seaborn as sns\n",
    "\n",
    "# train[\"R-Squared\"] = [0 if i < 0 else i for i in train.iloc[:,0]]\n",
    "\n",
    "plt.figure(figsize=(5, 10))\n",
    "sns.set_theme(style=\"whitegrid\")\n",
    "ax = sns.barplot(y=train.index, x=\"R-Squared\", data=train)\n",
    "ax.set(xlim=(0, 1))"
   ]
  },
  {
   "cell_type": "code",
   "execution_count": null,
   "id": "91d7491d",
   "metadata": {},
   "outputs": [],
   "source": [
    "# Barplot of RMSE values\n",
    "import matplotlib.pyplot as plt\n",
    "import seaborn as sns\n",
    "\n",
    "plt.figure(figsize=(5, 10))\n",
    "sns.set_theme(style=\"whitegrid\")\n",
    "ax = sns.barplot(y=train.index, x=\"RMSE\", data=train)\n",
    "ax.set(xlim=(0, 10))"
   ]
  },
  {
   "cell_type": "code",
   "execution_count": null,
   "id": "69e97020",
   "metadata": {},
   "outputs": [],
   "source": [
    "# Barplot of calculation time\n",
    "import matplotlib.pyplot as plt\n",
    "import seaborn as sns\n",
    "\n",
    "plt.figure(figsize=(5, 10))\n",
    "sns.set_theme(style=\"whitegrid\")\n",
    "ax = sns.barplot(y=train.index, x=\"Time Taken\", data=train)\n",
    "ax.set(xlim=(0, 10))"
   ]
  }
 ],
 "metadata": {
  "kernelspec": {
   "display_name": "Python 3 (ipykernel)",
   "language": "python",
   "name": "python3"
  },
  "language_info": {
   "codemirror_mode": {
    "name": "ipython",
    "version": 3
   },
   "file_extension": ".py",
   "mimetype": "text/x-python",
   "name": "python",
   "nbconvert_exporter": "python",
   "pygments_lexer": "ipython3",
   "version": "3.8.12"
  }
 },
 "nbformat": 4,
 "nbformat_minor": 5
}
